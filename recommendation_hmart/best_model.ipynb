{
 "cells": [
  {
   "cell_type": "code",
   "execution_count": 67,
   "metadata": {},
   "outputs": [],
   "source": [
    "from pyspark.sql import SparkSession\n",
    "from surprise import Reader\n",
    "from surprise import Dataset"
   ]
  },
  {
   "cell_type": "code",
   "execution_count": 68,
   "metadata": {},
   "outputs": [],
   "source": [
    "spark = SparkSession.builder.appName(\"Best Model for Rec\").getOrCreate()"
   ]
  },
  {
   "cell_type": "code",
   "execution_count": 69,
   "metadata": {},
   "outputs": [],
   "source": [
    "df_product = spark.read.json('data/product.json')\n",
    "product_rating = spark.read.json('data/rating.json')"
   ]
  },
  {
   "cell_type": "code",
   "execution_count": 70,
   "metadata": {},
   "outputs": [],
   "source": [
    "merged_df = product_rating.join(df_product, 'productId', 'inner')"
   ]
  },
  {
   "cell_type": "code",
   "execution_count": 71,
   "metadata": {},
   "outputs": [],
   "source": [
    "df_train, df_test = merged_df.randomSplit([0.7, 0.3], seed = 96)\n",
    "df_train_pandas = df_train.toPandas()\n",
    "df_test_pandas = df_test.toPandas()"
   ]
  },
  {
   "cell_type": "code",
   "execution_count": 72,
   "metadata": {},
   "outputs": [],
   "source": [
    "reader = Reader(rating_scale=(1, 5))"
   ]
  },
  {
   "cell_type": "code",
   "execution_count": 73,
   "metadata": {},
   "outputs": [],
   "source": [
    "data_train = Dataset.load_from_df(df_train_pandas[['userId', 'productId', 'rating']], reader)\n",
    "data_test = Dataset.load_from_df(df_test_pandas[['userId', 'productId', 'rating']], reader)"
   ]
  },
  {
   "cell_type": "code",
   "execution_count": 74,
   "metadata": {},
   "outputs": [],
   "source": [
    "trainset = data_train.build_full_trainset()\n",
    "testset = data_test.build_full_trainset().build_testset()"
   ]
  },
  {
   "cell_type": "code",
   "execution_count": 75,
   "metadata": {},
   "outputs": [],
   "source": [
    "from surprise.dump import load, dump"
   ]
  },
  {
   "cell_type": "code",
   "execution_count": 76,
   "metadata": {},
   "outputs": [],
   "source": [
    "dump_path = 'model/knn_model.pkl'\n",
    "knn_algo = load(dump_path)[1]"
   ]
  },
  {
   "cell_type": "code",
   "execution_count": 77,
   "metadata": {},
   "outputs": [],
   "source": [
    "dump_path = 'model/svd_model.pkl'\n",
    "svd_algo = load(dump_path)[1]"
   ]
  },
  {
   "cell_type": "code",
   "execution_count": 78,
   "metadata": {},
   "outputs": [],
   "source": [
    "dump_path = 'model/svdpp_model.pkl'\n",
    "svdpp_algo = load(dump_path)[1]"
   ]
  },
  {
   "cell_type": "code",
   "execution_count": 79,
   "metadata": {},
   "outputs": [],
   "source": [
    "dump_path = 'model/nmf_model.pkl'\n",
    "nmf_algo = load(dump_path)[1]"
   ]
  },
  {
   "cell_type": "code",
   "execution_count": 80,
   "metadata": {},
   "outputs": [],
   "source": [
    "dump_path = 'model/clustering_model.pkl'\n",
    "clustering_algo = load(dump_path)[1]"
   ]
  },
  {
   "cell_type": "code",
   "execution_count": 81,
   "metadata": {},
   "outputs": [],
   "source": [
    "# Make predictions using the knn model\n",
    "knn_predictions = knn_algo.test(testset)"
   ]
  },
  {
   "cell_type": "code",
   "execution_count": 82,
   "metadata": {},
   "outputs": [],
   "source": [
    "# Make predictions using the svd model\n",
    "svd_predictions = svd_algo.test(testset)"
   ]
  },
  {
   "cell_type": "code",
   "execution_count": 83,
   "metadata": {},
   "outputs": [],
   "source": [
    "# Make predictions using the svdpp model\n",
    "svdpp_predictions = svdpp_algo.test(testset)"
   ]
  },
  {
   "cell_type": "code",
   "execution_count": 84,
   "metadata": {},
   "outputs": [],
   "source": [
    "# Make predictions using the nmf model\n",
    "nmf_predictions = nmf_algo.test(testset)"
   ]
  },
  {
   "cell_type": "code",
   "execution_count": 85,
   "metadata": {},
   "outputs": [],
   "source": [
    "# Make predictions using the clustering model\n",
    "clustering_predictions = clustering_algo.test(testset)"
   ]
  },
  {
   "cell_type": "code",
   "execution_count": 86,
   "metadata": {},
   "outputs": [],
   "source": [
    "from surprise import accuracy"
   ]
  },
  {
   "cell_type": "code",
   "execution_count": 87,
   "metadata": {},
   "outputs": [
    {
     "name": "stdout",
     "output_type": "stream",
     "text": [
      "KNN\n",
      "RMSE: 1.4219\n",
      "MAE:  1.2215\n",
      "MSE: 2.0217\n",
      "SVD\n",
      "RMSE: 1.4199\n",
      "MAE:  1.2188\n",
      "MSE: 2.0160\n",
      "SVDpp\n",
      "RMSE: 1.4205\n",
      "MAE:  1.2206\n",
      "MSE: 2.0178\n",
      "NMF\n",
      "RMSE: 1.5053\n",
      "MAE:  1.2905\n",
      "MSE: 2.2659\n",
      "Clustering\n",
      "RMSE: 1.4288\n",
      "MAE:  1.2316\n",
      "MSE: 2.0414\n"
     ]
    }
   ],
   "source": [
    "# Calculate RMSE (Root Mean Squared Error)\n",
    "print('KNN')\n",
    "knn_rmse = accuracy.rmse(knn_predictions)\n",
    "knn_mae = accuracy.mae(knn_predictions)\n",
    "knn_rsquared = accuracy.mse(knn_predictions)\n",
    "print('SVD')\n",
    "svd_rmse = accuracy.rmse(svd_predictions)\n",
    "svd_mae = accuracy.mae(svd_predictions)\n",
    "svd_rsquared = accuracy.mse(svd_predictions)\n",
    "print('SVDpp')\n",
    "svdpp_rmse = accuracy.rmse(svdpp_predictions)\n",
    "svdpp_mae = accuracy.mae(svdpp_predictions)\n",
    "svdpp_rsquared = accuracy.mse(svdpp_predictions)\n",
    "print('NMF')\n",
    "nmf_rmse = accuracy.rmse(nmf_predictions)\n",
    "nmf_mae = accuracy.mae(nmf_predictions)\n",
    "nmf_rsquared = accuracy.mse(nmf_predictions)\n",
    "print('Clustering')\n",
    "clustering_rmse = accuracy.rmse(clustering_predictions)\n",
    "clustering_mae = accuracy.mae(clustering_predictions)\n",
    "clustering_rsquared = accuracy.mse(clustering_predictions)"
   ]
  },
  {
   "cell_type": "code",
   "execution_count": 88,
   "metadata": {},
   "outputs": [],
   "source": [
    "dump_path_save = 'model/best_model.pkl'\n",
    "dump(dump_path_save, algo=svd_predictions)"
   ]
  }
 ],
 "metadata": {
  "kernelspec": {
   "display_name": "base",
   "language": "python",
   "name": "python3"
  },
  "language_info": {
   "codemirror_mode": {
    "name": "ipython",
    "version": 3
   },
   "file_extension": ".py",
   "mimetype": "text/x-python",
   "name": "python",
   "nbconvert_exporter": "python",
   "pygments_lexer": "ipython3",
   "version": "3.9.18"
  }
 },
 "nbformat": 4,
 "nbformat_minor": 2
}
